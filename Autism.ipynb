{
  "nbformat": 4,
  "nbformat_minor": 0,
  "metadata": {
    "colab": {
      "name": "Autism.ipynb",
      "provenance": [],
      "collapsed_sections": [],
      "authorship_tag": "ABX9TyO0AuHC2BLvJsenAvdI4RQ0",
      "include_colab_link": true
    },
    "kernelspec": {
      "name": "python3",
      "display_name": "Python 3"
    },
    "language_info": {
      "name": "python"
    }
  },
  "cells": [
    {
      "cell_type": "markdown",
      "metadata": {
        "id": "view-in-github",
        "colab_type": "text"
      },
      "source": [
        "<a href=\"https://colab.research.google.com/github/Bluestars1/BMI520-Autism-Genes/blob/main/Autism.ipynb\" target=\"_parent\"><img src=\"https://colab.research.google.com/assets/colab-badge.svg\" alt=\"Open In Colab\"/></a>"
      ]
    },
    {
      "cell_type": "code",
      "metadata": {
        "id": "U8fkR99iGEro"
      },
      "source": [
        "import numpy as np\n",
        "from itertools import chain\n",
        "import pandas as pd\n",
        "import matplotlib.pyplot as plt\n",
        "import sqlalchemy as sa"
      ],
      "execution_count": 25,
      "outputs": []
    },
    {
      "cell_type": "code",
      "metadata": {
        "colab": {
          "resources": {
            "http://localhost:8080/nbextensions/google.colab/files.js": {
              "data": "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",
              "ok": true,
              "headers": [
                [
                  "content-type",
                  "application/javascript"
                ]
              ],
              "status": 200,
              "status_text": ""
            }
          },
          "base_uri": "https://localhost:8080/",
          "height": 175
        },
        "id": "DysLjwSUIbt3",
        "outputId": "8d66b346-2cce-45eb-ce56-bbcae224c612"
      },
      "source": [
        "#get files\n",
        "from google.colab import files\n",
        "uploaded = files.upload()"
      ],
      "execution_count": 6,
      "outputs": [
        {
          "output_type": "display_data",
          "data": {
            "text/html": [
              "\n",
              "     <input type=\"file\" id=\"files-907fb074-d95c-48f7-99f6-6cdd2483facc\" name=\"files[]\" multiple disabled\n",
              "        style=\"border:none\" />\n",
              "     <output id=\"result-907fb074-d95c-48f7-99f6-6cdd2483facc\">\n",
              "      Upload widget is only available when the cell has been executed in the\n",
              "      current browser session. Please rerun this cell to enable.\n",
              "      </output>\n",
              "      <script src=\"/nbextensions/google.colab/files.js\"></script> "
            ],
            "text/plain": [
              "<IPython.core.display.HTML object>"
            ]
          },
          "metadata": {
            "tags": []
          }
        },
        {
          "output_type": "stream",
          "text": [
            "Saving all_gene_disease_associations.xls to all_gene_disease_associations.xls\n",
            "Saving MappedGenesToPanther.xlsx to MappedGenesToPanther.xlsx\n",
            "Saving SfariDisorders.xls to SfariDisorders.xls\n",
            "Saving SFARIGenes.xls to SFARIGenes.xls\n"
          ],
          "name": "stdout"
        }
      ]
    },
    {
      "cell_type": "code",
      "metadata": {
        "id": "HXy1YJ6l4Vey"
      },
      "source": [
        "#read SfariGenes Gene score 1 and 2 related to autisme \n",
        "df = pd.read_excel('SFARIGenes.xls')"
      ],
      "execution_count": 26,
      "outputs": []
    },
    {
      "cell_type": "code",
      "metadata": {
        "colab": {
          "base_uri": "https://localhost:8080/",
          "height": 459
        },
        "id": "tpZTtpMb477u",
        "outputId": "2bf26dee-3255-4c9c-b438-65d4adb11836"
      },
      "source": [
        "# print columns\n",
        "print (df.columns)\n",
        "# Convert the dictionary into DataFrame \n",
        "genesdf = pd.DataFrame(data = df)\n",
        "# Remove columns\n",
        "dfgenes = genesdf.drop(['status', 'syndromic', 'number-of-reports', 'genetic-category'], axis = 1)\n",
        "#display dfgenes data set to work with\n",
        "display(dfgenes)"
      ],
      "execution_count": 27,
      "outputs": [
        {
          "output_type": "stream",
          "text": [
            "Index(['status', 'gene-symbol', 'gene-name', 'ensembl-id', 'chromosome',\n",
            "       'genetic-category', 'gene-score', 'syndromic', 'number-of-reports'],\n",
            "      dtype='object')\n"
          ],
          "name": "stdout"
        },
        {
          "output_type": "display_data",
          "data": {
            "text/html": [
              "<div>\n",
              "<style scoped>\n",
              "    .dataframe tbody tr th:only-of-type {\n",
              "        vertical-align: middle;\n",
              "    }\n",
              "\n",
              "    .dataframe tbody tr th {\n",
              "        vertical-align: top;\n",
              "    }\n",
              "\n",
              "    .dataframe thead th {\n",
              "        text-align: right;\n",
              "    }\n",
              "</style>\n",
              "<table border=\"1\" class=\"dataframe\">\n",
              "  <thead>\n",
              "    <tr style=\"text-align: right;\">\n",
              "      <th></th>\n",
              "      <th>gene-symbol</th>\n",
              "      <th>gene-name</th>\n",
              "      <th>ensembl-id</th>\n",
              "      <th>chromosome</th>\n",
              "      <th>gene-score</th>\n",
              "    </tr>\n",
              "  </thead>\n",
              "  <tbody>\n",
              "    <tr>\n",
              "      <th>0</th>\n",
              "      <td>ABAT</td>\n",
              "      <td>4-aminobutyrate aminotransferase</td>\n",
              "      <td>ENSG00000183044</td>\n",
              "      <td>16</td>\n",
              "      <td>3.0</td>\n",
              "    </tr>\n",
              "    <tr>\n",
              "      <th>1</th>\n",
              "      <td>ABCA10</td>\n",
              "      <td>ATP-binding cassette, sub-family A (ABC1), mem...</td>\n",
              "      <td>ENSG00000154263</td>\n",
              "      <td>17</td>\n",
              "      <td>3.0</td>\n",
              "    </tr>\n",
              "    <tr>\n",
              "      <th>2</th>\n",
              "      <td>ABCA13</td>\n",
              "      <td>ATP binding cassette subfamily A member 13</td>\n",
              "      <td>ENSG00000179869</td>\n",
              "      <td>7</td>\n",
              "      <td>3.0</td>\n",
              "    </tr>\n",
              "    <tr>\n",
              "      <th>3</th>\n",
              "      <td>ABCA7</td>\n",
              "      <td>ATP-binding cassette, sub-family A (ABC1), mem...</td>\n",
              "      <td>ENSG00000064687</td>\n",
              "      <td>19</td>\n",
              "      <td>3.0</td>\n",
              "    </tr>\n",
              "    <tr>\n",
              "      <th>4</th>\n",
              "      <td>ACE</td>\n",
              "      <td>angiotensin I converting enzyme</td>\n",
              "      <td>ENSG00000159640</td>\n",
              "      <td>17</td>\n",
              "      <td>3.0</td>\n",
              "    </tr>\n",
              "    <tr>\n",
              "      <th>...</th>\n",
              "      <td>...</td>\n",
              "      <td>...</td>\n",
              "      <td>...</td>\n",
              "      <td>...</td>\n",
              "      <td>...</td>\n",
              "    </tr>\n",
              "    <tr>\n",
              "      <th>998</th>\n",
              "      <td>ZMYND8</td>\n",
              "      <td>zinc finger MYND-type containing 8</td>\n",
              "      <td>ENSG00000101040</td>\n",
              "      <td>20</td>\n",
              "      <td>1.0</td>\n",
              "    </tr>\n",
              "    <tr>\n",
              "      <th>999</th>\n",
              "      <td>ZNF804A</td>\n",
              "      <td>Zinc finger protein 804A</td>\n",
              "      <td>ENSG00000170396</td>\n",
              "      <td>2</td>\n",
              "      <td>2.0</td>\n",
              "    </tr>\n",
              "    <tr>\n",
              "      <th>1000</th>\n",
              "      <td>ZNF827</td>\n",
              "      <td>Zinc finger protein 827</td>\n",
              "      <td>ENSG00000151612</td>\n",
              "      <td>4</td>\n",
              "      <td>3.0</td>\n",
              "    </tr>\n",
              "    <tr>\n",
              "      <th>1001</th>\n",
              "      <td>ZSWIM6</td>\n",
              "      <td>zinc finger SWIM-type containing 6</td>\n",
              "      <td>ENSG00000130449</td>\n",
              "      <td>5</td>\n",
              "      <td>NaN</td>\n",
              "    </tr>\n",
              "    <tr>\n",
              "      <th>1002</th>\n",
              "      <td>ZWILCH</td>\n",
              "      <td>zwilchkinetochore protein</td>\n",
              "      <td>ENSG00000174442</td>\n",
              "      <td>15</td>\n",
              "      <td>3.0</td>\n",
              "    </tr>\n",
              "  </tbody>\n",
              "</table>\n",
              "<p>1003 rows × 5 columns</p>\n",
              "</div>"
            ],
            "text/plain": [
              "     gene-symbol  ... gene-score\n",
              "0           ABAT  ...        3.0\n",
              "1         ABCA10  ...        3.0\n",
              "2         ABCA13  ...        3.0\n",
              "3          ABCA7  ...        3.0\n",
              "4            ACE  ...        3.0\n",
              "...          ...  ...        ...\n",
              "998       ZMYND8  ...        1.0\n",
              "999      ZNF804A  ...        2.0\n",
              "1000      ZNF827  ...        3.0\n",
              "1001      ZSWIM6  ...        NaN\n",
              "1002      ZWILCH  ...        3.0\n",
              "\n",
              "[1003 rows x 5 columns]"
            ]
          },
          "metadata": {
            "tags": []
          }
        }
      ]
    },
    {
      "cell_type": "code",
      "metadata": {
        "id": "pBsk1T_0abKS"
      },
      "source": [
        "#read SfariDisorders file disorders associated with genes\n",
        "df2 = pd.read_excel('SfariDisorders.xls') "
      ],
      "execution_count": 28,
      "outputs": []
    },
    {
      "cell_type": "code",
      "metadata": {
        "colab": {
          "base_uri": "https://localhost:8080/",
          "height": 407
        },
        "id": "aQwV-hpvtHoj",
        "outputId": "15b6320a-6400-4e31-90cd-7909f7995fa2"
      },
      "source": [
        "#pd.DataFrame(data = df2)\n",
        "#display\n",
        "display(df2)"
      ],
      "execution_count": 29,
      "outputs": [
        {
          "output_type": "display_data",
          "data": {
            "text/html": [
              "<div>\n",
              "<style scoped>\n",
              "    .dataframe tbody tr th:only-of-type {\n",
              "        vertical-align: middle;\n",
              "    }\n",
              "\n",
              "    .dataframe tbody tr th {\n",
              "        vertical-align: top;\n",
              "    }\n",
              "\n",
              "    .dataframe thead th {\n",
              "        text-align: right;\n",
              "    }\n",
              "</style>\n",
              "<table border=\"1\" class=\"dataframe\">\n",
              "  <thead>\n",
              "    <tr style=\"text-align: right;\">\n",
              "      <th></th>\n",
              "      <th>MDAG</th>\n",
              "      <th>Disorders</th>\n",
              "      <th>TotalDisorders</th>\n",
              "    </tr>\n",
              "  </thead>\n",
              "  <tbody>\n",
              "    <tr>\n",
              "      <th>0</th>\n",
              "      <td>APOE</td>\n",
              "      <td>Anxiety Disorder, Attention Deficit Hyperactiv...</td>\n",
              "      <td>12</td>\n",
              "    </tr>\n",
              "    <tr>\n",
              "      <th>1</th>\n",
              "      <td>BDNF</td>\n",
              "      <td>Anxiety Disorder, Attention Deficit Hyperactiv...</td>\n",
              "      <td>12</td>\n",
              "    </tr>\n",
              "    <tr>\n",
              "      <th>2</th>\n",
              "      <td>SLC6A4</td>\n",
              "      <td>Anxiety Disorder, Attention Deficit Hyperactiv...</td>\n",
              "      <td>12</td>\n",
              "    </tr>\n",
              "    <tr>\n",
              "      <th>3</th>\n",
              "      <td>ABCB1</td>\n",
              "      <td>Anxiety Disorder, Attention Deficit Hyperactiv...</td>\n",
              "      <td>11</td>\n",
              "    </tr>\n",
              "    <tr>\n",
              "      <th>4</th>\n",
              "      <td>ADA</td>\n",
              "      <td>Anxiety Disorder, Attention Deficit Hyperactiv...</td>\n",
              "      <td>11</td>\n",
              "    </tr>\n",
              "    <tr>\n",
              "      <th>...</th>\n",
              "      <td>...</td>\n",
              "      <td>...</td>\n",
              "      <td>...</td>\n",
              "    </tr>\n",
              "    <tr>\n",
              "      <th>705</th>\n",
              "      <td>USP9X</td>\n",
              "      <td>Intellectual Disability</td>\n",
              "      <td>1</td>\n",
              "    </tr>\n",
              "    <tr>\n",
              "      <th>706</th>\n",
              "      <td>WNK3</td>\n",
              "      <td>Intellectual Disability</td>\n",
              "      <td>1</td>\n",
              "    </tr>\n",
              "    <tr>\n",
              "      <th>707</th>\n",
              "      <td>XIRP2</td>\n",
              "      <td>Epilepsy</td>\n",
              "      <td>1</td>\n",
              "    </tr>\n",
              "    <tr>\n",
              "      <th>708</th>\n",
              "      <td>XPO1</td>\n",
              "      <td>Intellectual Disability</td>\n",
              "      <td>1</td>\n",
              "    </tr>\n",
              "    <tr>\n",
              "      <th>709</th>\n",
              "      <td>ZMYND11</td>\n",
              "      <td>Intellectual Disability</td>\n",
              "      <td>1</td>\n",
              "    </tr>\n",
              "  </tbody>\n",
              "</table>\n",
              "<p>710 rows × 3 columns</p>\n",
              "</div>"
            ],
            "text/plain": [
              "        MDAG                                          Disorders  TotalDisorders\n",
              "0       APOE  Anxiety Disorder, Attention Deficit Hyperactiv...              12\n",
              "1       BDNF  Anxiety Disorder, Attention Deficit Hyperactiv...              12\n",
              "2     SLC6A4  Anxiety Disorder, Attention Deficit Hyperactiv...              12\n",
              "3      ABCB1  Anxiety Disorder, Attention Deficit Hyperactiv...              11\n",
              "4        ADA  Anxiety Disorder, Attention Deficit Hyperactiv...              11\n",
              "..       ...                                                ...             ...\n",
              "705    USP9X                            Intellectual Disability               1\n",
              "706     WNK3                            Intellectual Disability               1\n",
              "707    XIRP2                                           Epilepsy               1\n",
              "708     XPO1                            Intellectual Disability               1\n",
              "709  ZMYND11                            Intellectual Disability               1\n",
              "\n",
              "[710 rows x 3 columns]"
            ]
          },
          "metadata": {
            "tags": []
          }
        }
      ]
    },
    {
      "cell_type": "code",
      "metadata": {
        "id": "cP0jqKeYZTKL",
        "colab": {
          "base_uri": "https://localhost:8080/",
          "height": 407
        },
        "outputId": "b8ed53e7-5436-4b8e-f6cd-2db3bfec2626"
      },
      "source": [
        "# return list from Disorder which is a series of comma-separated strings\n",
        "def chainer(s):\n",
        "    return list(chain.from_iterable(s.str.split(',')))\n",
        "\n",
        "# calculate lengths of splits\n",
        "lens = df2['Disorders'].str.split(',').map(len)\n",
        "\n",
        "# create new dataframe, repeating Columns MDAG and Roral Disorders and  chaining\n",
        "# Disorders to create new rows 1 MDAG -> Multiple Disorder-> TotalDisorders for \n",
        "# MDAG\n",
        "res = pd.DataFrame({'MDAG': np.repeat(df2['MDAG'], lens),\n",
        "                    'Disorders': chainer(df2['Disorders']),\n",
        "                     'TotalDisorders': np.repeat(df2['TotalDisorders'], lens)})\n",
        "# Remove columns\n",
        "newdisorders = res.drop(['TotalDisorders'], axis = 1)\n",
        "display(newdisorders)"
      ],
      "execution_count": 30,
      "outputs": [
        {
          "output_type": "display_data",
          "data": {
            "text/html": [
              "<div>\n",
              "<style scoped>\n",
              "    .dataframe tbody tr th:only-of-type {\n",
              "        vertical-align: middle;\n",
              "    }\n",
              "\n",
              "    .dataframe tbody tr th {\n",
              "        vertical-align: top;\n",
              "    }\n",
              "\n",
              "    .dataframe thead th {\n",
              "        text-align: right;\n",
              "    }\n",
              "</style>\n",
              "<table border=\"1\" class=\"dataframe\">\n",
              "  <thead>\n",
              "    <tr style=\"text-align: right;\">\n",
              "      <th></th>\n",
              "      <th>MDAG</th>\n",
              "      <th>Disorders</th>\n",
              "    </tr>\n",
              "  </thead>\n",
              "  <tbody>\n",
              "    <tr>\n",
              "      <th>0</th>\n",
              "      <td>APOE</td>\n",
              "      <td>Anxiety Disorder</td>\n",
              "    </tr>\n",
              "    <tr>\n",
              "      <th>0</th>\n",
              "      <td>APOE</td>\n",
              "      <td>Attention Deficit Hyperactivity Disorder</td>\n",
              "    </tr>\n",
              "    <tr>\n",
              "      <th>0</th>\n",
              "      <td>APOE</td>\n",
              "      <td>Bipolar Spectrum Disorders</td>\n",
              "    </tr>\n",
              "    <tr>\n",
              "      <th>0</th>\n",
              "      <td>APOE</td>\n",
              "      <td>Depressive Disorder</td>\n",
              "    </tr>\n",
              "    <tr>\n",
              "      <th>0</th>\n",
              "      <td>APOE</td>\n",
              "      <td>Down Syndrome</td>\n",
              "    </tr>\n",
              "    <tr>\n",
              "      <th>...</th>\n",
              "      <td>...</td>\n",
              "      <td>...</td>\n",
              "    </tr>\n",
              "    <tr>\n",
              "      <th>705</th>\n",
              "      <td>USP9X</td>\n",
              "      <td>Intellectual Disability</td>\n",
              "    </tr>\n",
              "    <tr>\n",
              "      <th>706</th>\n",
              "      <td>WNK3</td>\n",
              "      <td>Intellectual Disability</td>\n",
              "    </tr>\n",
              "    <tr>\n",
              "      <th>707</th>\n",
              "      <td>XIRP2</td>\n",
              "      <td>Epilepsy</td>\n",
              "    </tr>\n",
              "    <tr>\n",
              "      <th>708</th>\n",
              "      <td>XPO1</td>\n",
              "      <td>Intellectual Disability</td>\n",
              "    </tr>\n",
              "    <tr>\n",
              "      <th>709</th>\n",
              "      <td>ZMYND11</td>\n",
              "      <td>Intellectual Disability</td>\n",
              "    </tr>\n",
              "  </tbody>\n",
              "</table>\n",
              "<p>2833 rows × 2 columns</p>\n",
              "</div>"
            ],
            "text/plain": [
              "        MDAG                                  Disorders\n",
              "0       APOE                           Anxiety Disorder\n",
              "0       APOE   Attention Deficit Hyperactivity Disorder\n",
              "0       APOE                 Bipolar Spectrum Disorders\n",
              "0       APOE                        Depressive Disorder\n",
              "0       APOE                              Down Syndrome\n",
              "..       ...                                        ...\n",
              "705    USP9X                    Intellectual Disability\n",
              "706     WNK3                    Intellectual Disability\n",
              "707    XIRP2                                   Epilepsy\n",
              "708     XPO1                    Intellectual Disability\n",
              "709  ZMYND11                    Intellectual Disability\n",
              "\n",
              "[2833 rows x 2 columns]"
            ]
          },
          "metadata": {
            "tags": []
          }
        }
      ]
    },
    {
      "cell_type": "code",
      "metadata": {
        "id": "3-dVpyMw38IZ"
      },
      "source": [
        "#BMC genomics listing of all gene disease associations\n",
        "df3 = pd.read_excel('all_gene_disease_associations.xls')"
      ],
      "execution_count": 34,
      "outputs": []
    },
    {
      "cell_type": "code",
      "metadata": {
        "colab": {
          "base_uri": "https://localhost:8080/"
        },
        "id": "JrcWDl44r4CV",
        "outputId": "e33f9ebb-72c1-41e0-fe94-62ca6fc1830c"
      },
      "source": [
        "print (df3.columns)"
      ],
      "execution_count": 35,
      "outputs": [
        {
          "output_type": "stream",
          "text": [
            "Index(['geneId', 'geneSymbol', 'DSI', 'DPI', 'diseaseId', 'diseaseName',\n",
            "       'diseaseType', 'diseaseClass', 'diseaseSemanticType', 'score', 'EI',\n",
            "       'YearInitial', 'YearFinal', 'NofPmids', 'NofSnps', 'source'],\n",
            "      dtype='object')\n"
          ],
          "name": "stdout"
        }
      ]
    },
    {
      "cell_type": "code",
      "metadata": {
        "colab": {
          "base_uri": "https://localhost:8080/",
          "height": 476
        },
        "id": "TSjaJUmx3vUq",
        "outputId": "e35ff486-026b-4e6f-a1d1-779685bc0b67"
      },
      "source": [
        "# print columns\n",
        "print (df3.columns)\n",
        "# Convert the dictionary into DataFrame \n",
        "diseasesdf = pd.DataFrame(data = df3)\n",
        "# Remove columns\n",
        "dfdisease = diseasesdf.drop(['diseaseClass', 'diseaseSemanticType', 'score', 'EI','YearInitial','YearFinal','NofPmids','source'], axis = 1)\n",
        "#display\n",
        "display(dfdisease)"
      ],
      "execution_count": 36,
      "outputs": [
        {
          "output_type": "stream",
          "text": [
            "Index(['geneId', 'geneSymbol', 'DSI', 'DPI', 'diseaseId', 'diseaseName',\n",
            "       'diseaseType', 'diseaseClass', 'diseaseSemanticType', 'score', 'EI',\n",
            "       'YearInitial', 'YearFinal', 'NofPmids', 'NofSnps', 'source'],\n",
            "      dtype='object')\n"
          ],
          "name": "stdout"
        },
        {
          "output_type": "display_data",
          "data": {
            "text/html": [
              "<div>\n",
              "<style scoped>\n",
              "    .dataframe tbody tr th:only-of-type {\n",
              "        vertical-align: middle;\n",
              "    }\n",
              "\n",
              "    .dataframe tbody tr th {\n",
              "        vertical-align: top;\n",
              "    }\n",
              "\n",
              "    .dataframe thead th {\n",
              "        text-align: right;\n",
              "    }\n",
              "</style>\n",
              "<table border=\"1\" class=\"dataframe\">\n",
              "  <thead>\n",
              "    <tr style=\"text-align: right;\">\n",
              "      <th></th>\n",
              "      <th>geneId</th>\n",
              "      <th>geneSymbol</th>\n",
              "      <th>DSI</th>\n",
              "      <th>DPI</th>\n",
              "      <th>diseaseId</th>\n",
              "      <th>diseaseName</th>\n",
              "      <th>diseaseType</th>\n",
              "      <th>NofSnps</th>\n",
              "    </tr>\n",
              "  </thead>\n",
              "  <tbody>\n",
              "    <tr>\n",
              "      <th>0</th>\n",
              "      <td>1</td>\n",
              "      <td>A1BG</td>\n",
              "      <td>0.700</td>\n",
              "      <td>0.538</td>\n",
              "      <td>C0001418</td>\n",
              "      <td>Adenocarcinoma</td>\n",
              "      <td>group</td>\n",
              "      <td>0</td>\n",
              "    </tr>\n",
              "    <tr>\n",
              "      <th>1</th>\n",
              "      <td>1</td>\n",
              "      <td>A1BG</td>\n",
              "      <td>0.700</td>\n",
              "      <td>0.538</td>\n",
              "      <td>C0002736</td>\n",
              "      <td>Amyotrophic Lateral Sclerosis</td>\n",
              "      <td>disease</td>\n",
              "      <td>0</td>\n",
              "    </tr>\n",
              "    <tr>\n",
              "      <th>2</th>\n",
              "      <td>1</td>\n",
              "      <td>A1BG</td>\n",
              "      <td>0.700</td>\n",
              "      <td>0.538</td>\n",
              "      <td>C0003578</td>\n",
              "      <td>Apnea</td>\n",
              "      <td>phenotype</td>\n",
              "      <td>0</td>\n",
              "    </tr>\n",
              "    <tr>\n",
              "      <th>3</th>\n",
              "      <td>1</td>\n",
              "      <td>A1BG</td>\n",
              "      <td>0.700</td>\n",
              "      <td>0.538</td>\n",
              "      <td>C0003864</td>\n",
              "      <td>Arthritis</td>\n",
              "      <td>disease</td>\n",
              "      <td>0</td>\n",
              "    </tr>\n",
              "    <tr>\n",
              "      <th>4</th>\n",
              "      <td>1</td>\n",
              "      <td>A1BG</td>\n",
              "      <td>0.700</td>\n",
              "      <td>0.538</td>\n",
              "      <td>C0008373</td>\n",
              "      <td>Cholesteatoma</td>\n",
              "      <td>disease</td>\n",
              "      <td>0</td>\n",
              "    </tr>\n",
              "    <tr>\n",
              "      <th>...</th>\n",
              "      <td>...</td>\n",
              "      <td>...</td>\n",
              "      <td>...</td>\n",
              "      <td>...</td>\n",
              "      <td>...</td>\n",
              "      <td>...</td>\n",
              "      <td>...</td>\n",
              "      <td>...</td>\n",
              "    </tr>\n",
              "    <tr>\n",
              "      <th>65530</th>\n",
              "      <td>673</td>\n",
              "      <td>BRAF</td>\n",
              "      <td>0.319</td>\n",
              "      <td>0.846</td>\n",
              "      <td>C0205696</td>\n",
              "      <td>Anaplastic carcinoma</td>\n",
              "      <td>disease</td>\n",
              "      <td>2</td>\n",
              "    </tr>\n",
              "    <tr>\n",
              "      <th>65531</th>\n",
              "      <td>673</td>\n",
              "      <td>BRAF</td>\n",
              "      <td>0.319</td>\n",
              "      <td>0.846</td>\n",
              "      <td>C0205698</td>\n",
              "      <td>Undifferentiated carcinoma</td>\n",
              "      <td>disease</td>\n",
              "      <td>2</td>\n",
              "    </tr>\n",
              "    <tr>\n",
              "      <th>65532</th>\n",
              "      <td>673</td>\n",
              "      <td>BRAF</td>\n",
              "      <td>0.319</td>\n",
              "      <td>0.846</td>\n",
              "      <td>C0205748</td>\n",
              "      <td>Dysplastic Nevus</td>\n",
              "      <td>disease</td>\n",
              "      <td>2</td>\n",
              "    </tr>\n",
              "    <tr>\n",
              "      <th>65533</th>\n",
              "      <td>673</td>\n",
              "      <td>BRAF</td>\n",
              "      <td>0.319</td>\n",
              "      <td>0.846</td>\n",
              "      <td>C0205768</td>\n",
              "      <td>Subependymal Giant Cell Astrocytoma</td>\n",
              "      <td>disease</td>\n",
              "      <td>2</td>\n",
              "    </tr>\n",
              "    <tr>\n",
              "      <th>65534</th>\n",
              "      <td>673</td>\n",
              "      <td>BRAF</td>\n",
              "      <td>0.319</td>\n",
              "      <td>0.846</td>\n",
              "      <td>C0205824</td>\n",
              "      <td>Liposarcoma, Dedifferentiated</td>\n",
              "      <td>disease</td>\n",
              "      <td>0</td>\n",
              "    </tr>\n",
              "  </tbody>\n",
              "</table>\n",
              "<p>65535 rows × 8 columns</p>\n",
              "</div>"
            ],
            "text/plain": [
              "       geneId geneSymbol  ...  diseaseType  NofSnps\n",
              "0           1       A1BG  ...        group        0\n",
              "1           1       A1BG  ...      disease        0\n",
              "2           1       A1BG  ...    phenotype        0\n",
              "3           1       A1BG  ...      disease        0\n",
              "4           1       A1BG  ...      disease        0\n",
              "...       ...        ...  ...          ...      ...\n",
              "65530     673       BRAF  ...      disease        2\n",
              "65531     673       BRAF  ...      disease        2\n",
              "65532     673       BRAF  ...      disease        2\n",
              "65533     673       BRAF  ...      disease        2\n",
              "65534     673       BRAF  ...      disease        0\n",
              "\n",
              "[65535 rows x 8 columns]"
            ]
          },
          "metadata": {
            "tags": []
          }
        }
      ]
    },
    {
      "cell_type": "code",
      "metadata": {
        "id": "1_jSe31CHvUH"
      },
      "source": [
        "df4 = pd.read_excel('MappedGenesToPanther.xlsx')"
      ],
      "execution_count": 38,
      "outputs": []
    },
    {
      "cell_type": "code",
      "metadata": {
        "colab": {
          "base_uri": "https://localhost:8080/",
          "height": 425
        },
        "id": "fOWoRqqHsLM3",
        "outputId": "594a9630-d6dd-4b79-d41b-4d016759ed11"
      },
      "source": [
        "# print columns\n",
        "print (df4.columns)\n",
        "# Convert the dictionary into DataFrame \n",
        "panthermapdf = pd.DataFrame(data = df4)\n",
        "# Remove columns\n",
        "#dfdisease = diseasesdf.drop(['diseaseClass', 'diseaseSemanticType', 'score', 'EI','YearInitial','YearFinal','NofPmids','source'], axis = 1)\n",
        "#display\n",
        "display(panthermapdf)"
      ],
      "execution_count": 39,
      "outputs": [
        {
          "output_type": "stream",
          "text": [
            "Index(['MppedID', 'GeneID', 'FamiySubfamily', 'ProteinClass'], dtype='object')\n"
          ],
          "name": "stdout"
        },
        {
          "output_type": "display_data",
          "data": {
            "text/html": [
              "<div>\n",
              "<style scoped>\n",
              "    .dataframe tbody tr th:only-of-type {\n",
              "        vertical-align: middle;\n",
              "    }\n",
              "\n",
              "    .dataframe tbody tr th {\n",
              "        vertical-align: top;\n",
              "    }\n",
              "\n",
              "    .dataframe thead th {\n",
              "        text-align: right;\n",
              "    }\n",
              "</style>\n",
              "<table border=\"1\" class=\"dataframe\">\n",
              "  <thead>\n",
              "    <tr style=\"text-align: right;\">\n",
              "      <th></th>\n",
              "      <th>MppedID</th>\n",
              "      <th>GeneID</th>\n",
              "      <th>FamiySubfamily</th>\n",
              "      <th>ProteinClass</th>\n",
              "    </tr>\n",
              "  </thead>\n",
              "  <tbody>\n",
              "    <tr>\n",
              "      <th>0</th>\n",
              "      <td>AADAT</td>\n",
              "      <td>HUMAN|HGNC=17929|UniProtKB=Q8N5Z0</td>\n",
              "      <td>KYNURENINE/ALPHA-AMINOADIPATE AMINOTRANSFERASE...</td>\n",
              "      <td>transaminase</td>\n",
              "    </tr>\n",
              "    <tr>\n",
              "      <th>1</th>\n",
              "      <td>AANAT</td>\n",
              "      <td>HUMAN|HGNC=19|UniProtKB=Q16613</td>\n",
              "      <td>SEROTONIN N-ACETYLTRANSFERASE (PTHR10908:SF0)</td>\n",
              "      <td>acetyltransferase</td>\n",
              "    </tr>\n",
              "    <tr>\n",
              "      <th>2</th>\n",
              "      <td>ABAT</td>\n",
              "      <td>HUMAN|HGNC=23|UniProtKB=P80404</td>\n",
              "      <td>4-AMINOBUTYRATE AMINOTRANSFERASE, MITOCHONDRIA...</td>\n",
              "      <td>transaminase</td>\n",
              "    </tr>\n",
              "    <tr>\n",
              "      <th>3</th>\n",
              "      <td>ABCA13</td>\n",
              "      <td>HUMAN|HGNC=14638|UniProtKB=Q86UQ4</td>\n",
              "      <td>ATP-BINDING CASSETTE SUB-FAMILY A MEMBER 13 (P...</td>\n",
              "      <td>ATP-binding cassette (ABC) transporter</td>\n",
              "    </tr>\n",
              "    <tr>\n",
              "      <th>4</th>\n",
              "      <td>ABCA7</td>\n",
              "      <td>HUMAN|HGNC=37|UniProtKB=Q8IZY2</td>\n",
              "      <td>PHOSPHOLIPID-TRANSPORTING ATPASE ABCA7 (PTHR19...</td>\n",
              "      <td>ATP-binding cassette (ABC) transporter</td>\n",
              "    </tr>\n",
              "    <tr>\n",
              "      <th>...</th>\n",
              "      <td>...</td>\n",
              "      <td>...</td>\n",
              "      <td>...</td>\n",
              "      <td>...</td>\n",
              "    </tr>\n",
              "    <tr>\n",
              "      <th>1038</th>\n",
              "      <td>ZNF292</td>\n",
              "      <td>HUMAN|HGNC=18410|UniProtKB=O60281</td>\n",
              "      <td>ZINC FINGER PROTEIN 292 (PTHR15507:SF14)</td>\n",
              "      <td>C2H2 zinc finger transcription factor</td>\n",
              "    </tr>\n",
              "    <tr>\n",
              "      <th>1039</th>\n",
              "      <td>ZNF335</td>\n",
              "      <td>HUMAN|HGNC=15807|UniProtKB=Q9H4Z2</td>\n",
              "      <td>ZINC FINGER PROTEIN 335 (PTHR24403:SF36)</td>\n",
              "      <td>C2H2 zinc finger transcription factor</td>\n",
              "    </tr>\n",
              "    <tr>\n",
              "      <th>1040</th>\n",
              "      <td>ZNF407</td>\n",
              "      <td>HUMAN|HGNC=19904|UniProtKB=Q9C0G0</td>\n",
              "      <td>ZINC FINGER PROTEIN 407 (PTHR24403:SF60)</td>\n",
              "      <td>C2H2 zinc finger transcription factor</td>\n",
              "    </tr>\n",
              "    <tr>\n",
              "      <th>1041</th>\n",
              "      <td>ZNF462</td>\n",
              "      <td>HUMAN|HGNC=21684|UniProtKB=Q96JM2</td>\n",
              "      <td>ZINC FINGER PROTEIN 462 (PTHR24403:SF58)</td>\n",
              "      <td>C2H2 zinc finger transcription factor</td>\n",
              "    </tr>\n",
              "    <tr>\n",
              "      <th>1042</th>\n",
              "      <td>ZNF804A</td>\n",
              "      <td>HUMAN|HGNC=21711|UniProtKB=Q7Z570</td>\n",
              "      <td>ZINC FINGER PROTEIN 804A (PTHR17614:SF13)</td>\n",
              "      <td>-</td>\n",
              "    </tr>\n",
              "  </tbody>\n",
              "</table>\n",
              "<p>1043 rows × 4 columns</p>\n",
              "</div>"
            ],
            "text/plain": [
              "      MppedID  ...                            ProteinClass\n",
              "0       AADAT  ...                            transaminase\n",
              "1       AANAT  ...                       acetyltransferase\n",
              "2        ABAT  ...                            transaminase\n",
              "3      ABCA13  ...  ATP-binding cassette (ABC) transporter\n",
              "4       ABCA7  ...  ATP-binding cassette (ABC) transporter\n",
              "...       ...  ...                                     ...\n",
              "1038   ZNF292  ...   C2H2 zinc finger transcription factor\n",
              "1039   ZNF335  ...   C2H2 zinc finger transcription factor\n",
              "1040   ZNF407  ...   C2H2 zinc finger transcription factor\n",
              "1041   ZNF462  ...   C2H2 zinc finger transcription factor\n",
              "1042  ZNF804A  ...                                       -\n",
              "\n",
              "[1043 rows x 4 columns]"
            ]
          },
          "metadata": {
            "tags": []
          }
        }
      ]
    },
    {
      "cell_type": "code",
      "metadata": {
        "colab": {
          "base_uri": "https://localhost:8080/",
          "height": 310
        },
        "id": "_KTcCWrhcH0k",
        "outputId": "e11c23ff-3cf0-4a1b-add6-5323c6857925"
      },
      "source": [
        "pfm = pd.merge(df2, df, how='left', left_on=['gene-symbol'], right_on=['MDAG'])"
      ],
      "execution_count": 117,
      "outputs": [
        {
          "output_type": "error",
          "ename": "KeyError",
          "evalue": "ignored",
          "traceback": [
            "\u001b[0;31m---------------------------------------------------------------------------\u001b[0m",
            "\u001b[0;31mKeyError\u001b[0m                                  Traceback (most recent call last)",
            "\u001b[0;32m<ipython-input-117-09940cf3d913>\u001b[0m in \u001b[0;36m<module>\u001b[0;34m()\u001b[0m\n\u001b[0;32m----> 1\u001b[0;31m \u001b[0mpfm\u001b[0m \u001b[0;34m=\u001b[0m \u001b[0mpd\u001b[0m\u001b[0;34m.\u001b[0m\u001b[0mmerge\u001b[0m\u001b[0;34m(\u001b[0m\u001b[0mdf2\u001b[0m\u001b[0;34m,\u001b[0m \u001b[0mdf\u001b[0m\u001b[0;34m,\u001b[0m \u001b[0mhow\u001b[0m\u001b[0;34m=\u001b[0m\u001b[0;34m'left'\u001b[0m\u001b[0;34m,\u001b[0m \u001b[0mleft_on\u001b[0m\u001b[0;34m=\u001b[0m\u001b[0;34m[\u001b[0m\u001b[0;34m'gene-symbol'\u001b[0m\u001b[0;34m]\u001b[0m\u001b[0;34m,\u001b[0m \u001b[0mright_on\u001b[0m\u001b[0;34m=\u001b[0m\u001b[0;34m[\u001b[0m\u001b[0;34m'MDAG'\u001b[0m\u001b[0;34m]\u001b[0m\u001b[0;34m)\u001b[0m\u001b[0;34m\u001b[0m\u001b[0;34m\u001b[0m\u001b[0m\n\u001b[0m",
            "\u001b[0;32m/usr/local/lib/python3.7/dist-packages/pandas/core/reshape/merge.py\u001b[0m in \u001b[0;36mmerge\u001b[0;34m(left, right, how, on, left_on, right_on, left_index, right_index, sort, suffixes, copy, indicator, validate)\u001b[0m\n\u001b[1;32m     85\u001b[0m         \u001b[0mcopy\u001b[0m\u001b[0;34m=\u001b[0m\u001b[0mcopy\u001b[0m\u001b[0;34m,\u001b[0m\u001b[0;34m\u001b[0m\u001b[0;34m\u001b[0m\u001b[0m\n\u001b[1;32m     86\u001b[0m         \u001b[0mindicator\u001b[0m\u001b[0;34m=\u001b[0m\u001b[0mindicator\u001b[0m\u001b[0;34m,\u001b[0m\u001b[0;34m\u001b[0m\u001b[0;34m\u001b[0m\u001b[0m\n\u001b[0;32m---> 87\u001b[0;31m         \u001b[0mvalidate\u001b[0m\u001b[0;34m=\u001b[0m\u001b[0mvalidate\u001b[0m\u001b[0;34m,\u001b[0m\u001b[0;34m\u001b[0m\u001b[0;34m\u001b[0m\u001b[0m\n\u001b[0m\u001b[1;32m     88\u001b[0m     )\n\u001b[1;32m     89\u001b[0m     \u001b[0;32mreturn\u001b[0m \u001b[0mop\u001b[0m\u001b[0;34m.\u001b[0m\u001b[0mget_result\u001b[0m\u001b[0;34m(\u001b[0m\u001b[0;34m)\u001b[0m\u001b[0;34m\u001b[0m\u001b[0;34m\u001b[0m\u001b[0m\n",
            "\u001b[0;32m/usr/local/lib/python3.7/dist-packages/pandas/core/reshape/merge.py\u001b[0m in \u001b[0;36m__init__\u001b[0;34m(self, left, right, how, on, left_on, right_on, axis, left_index, right_index, sort, suffixes, copy, indicator, validate)\u001b[0m\n\u001b[1;32m    650\u001b[0m             \u001b[0mself\u001b[0m\u001b[0;34m.\u001b[0m\u001b[0mright_join_keys\u001b[0m\u001b[0;34m,\u001b[0m\u001b[0;34m\u001b[0m\u001b[0;34m\u001b[0m\u001b[0m\n\u001b[1;32m    651\u001b[0m             \u001b[0mself\u001b[0m\u001b[0;34m.\u001b[0m\u001b[0mjoin_names\u001b[0m\u001b[0;34m,\u001b[0m\u001b[0;34m\u001b[0m\u001b[0;34m\u001b[0m\u001b[0m\n\u001b[0;32m--> 652\u001b[0;31m         ) = self._get_merge_keys()\n\u001b[0m\u001b[1;32m    653\u001b[0m \u001b[0;34m\u001b[0m\u001b[0m\n\u001b[1;32m    654\u001b[0m         \u001b[0;31m# validate the merge keys dtypes. We may need to coerce\u001b[0m\u001b[0;34m\u001b[0m\u001b[0;34m\u001b[0m\u001b[0;34m\u001b[0m\u001b[0m\n",
            "\u001b[0;32m/usr/local/lib/python3.7/dist-packages/pandas/core/reshape/merge.py\u001b[0m in \u001b[0;36m_get_merge_keys\u001b[0;34m(self)\u001b[0m\n\u001b[1;32m   1003\u001b[0m                     \u001b[0;32mif\u001b[0m \u001b[0;32mnot\u001b[0m \u001b[0mis_rkey\u001b[0m\u001b[0;34m(\u001b[0m\u001b[0mrk\u001b[0m\u001b[0;34m)\u001b[0m\u001b[0;34m:\u001b[0m\u001b[0;34m\u001b[0m\u001b[0;34m\u001b[0m\u001b[0m\n\u001b[1;32m   1004\u001b[0m                         \u001b[0;32mif\u001b[0m \u001b[0mrk\u001b[0m \u001b[0;32mis\u001b[0m \u001b[0;32mnot\u001b[0m \u001b[0;32mNone\u001b[0m\u001b[0;34m:\u001b[0m\u001b[0;34m\u001b[0m\u001b[0;34m\u001b[0m\u001b[0m\n\u001b[0;32m-> 1005\u001b[0;31m                             \u001b[0mright_keys\u001b[0m\u001b[0;34m.\u001b[0m\u001b[0mappend\u001b[0m\u001b[0;34m(\u001b[0m\u001b[0mright\u001b[0m\u001b[0;34m.\u001b[0m\u001b[0m_get_label_or_level_values\u001b[0m\u001b[0;34m(\u001b[0m\u001b[0mrk\u001b[0m\u001b[0;34m)\u001b[0m\u001b[0;34m)\u001b[0m\u001b[0;34m\u001b[0m\u001b[0;34m\u001b[0m\u001b[0m\n\u001b[0m\u001b[1;32m   1006\u001b[0m                         \u001b[0;32melse\u001b[0m\u001b[0;34m:\u001b[0m\u001b[0;34m\u001b[0m\u001b[0;34m\u001b[0m\u001b[0m\n\u001b[1;32m   1007\u001b[0m                             \u001b[0;31m# work-around for merge_asof(right_index=True)\u001b[0m\u001b[0;34m\u001b[0m\u001b[0;34m\u001b[0m\u001b[0;34m\u001b[0m\u001b[0m\n",
            "\u001b[0;32m/usr/local/lib/python3.7/dist-packages/pandas/core/generic.py\u001b[0m in \u001b[0;36m_get_label_or_level_values\u001b[0;34m(self, key, axis)\u001b[0m\n\u001b[1;32m   1561\u001b[0m             \u001b[0mvalues\u001b[0m \u001b[0;34m=\u001b[0m \u001b[0mself\u001b[0m\u001b[0;34m.\u001b[0m\u001b[0maxes\u001b[0m\u001b[0;34m[\u001b[0m\u001b[0maxis\u001b[0m\u001b[0;34m]\u001b[0m\u001b[0;34m.\u001b[0m\u001b[0mget_level_values\u001b[0m\u001b[0;34m(\u001b[0m\u001b[0mkey\u001b[0m\u001b[0;34m)\u001b[0m\u001b[0;34m.\u001b[0m\u001b[0m_values\u001b[0m\u001b[0;34m\u001b[0m\u001b[0;34m\u001b[0m\u001b[0m\n\u001b[1;32m   1562\u001b[0m         \u001b[0;32melse\u001b[0m\u001b[0;34m:\u001b[0m\u001b[0;34m\u001b[0m\u001b[0;34m\u001b[0m\u001b[0m\n\u001b[0;32m-> 1563\u001b[0;31m             \u001b[0;32mraise\u001b[0m \u001b[0mKeyError\u001b[0m\u001b[0;34m(\u001b[0m\u001b[0mkey\u001b[0m\u001b[0;34m)\u001b[0m\u001b[0;34m\u001b[0m\u001b[0;34m\u001b[0m\u001b[0m\n\u001b[0m\u001b[1;32m   1564\u001b[0m \u001b[0;34m\u001b[0m\u001b[0m\n\u001b[1;32m   1565\u001b[0m         \u001b[0;31m# Check for duplicates\u001b[0m\u001b[0;34m\u001b[0m\u001b[0;34m\u001b[0m\u001b[0;34m\u001b[0m\u001b[0m\n",
            "\u001b[0;31mKeyError\u001b[0m: 'MDAG'"
          ]
        }
      ]
    },
    {
      "cell_type": "code",
      "metadata": {
        "colab": {
          "base_uri": "https://localhost:8080/"
        },
        "id": "PQTeVcS29aUZ",
        "outputId": "dd5ac4fc-5a5b-48e8-d521-1d1528f39b26"
      },
      "source": [
        "print(pfm)"
      ],
      "execution_count": 23,
      "outputs": [
        {
          "output_type": "stream",
          "text": [
            "      status  ... TotalDisorders\n",
            "0          9  ...            3.0\n",
            "1          9  ...            NaN\n",
            "2          9  ...            5.0\n",
            "3          9  ...            5.0\n",
            "4          9  ...            NaN\n",
            "...      ...  ...            ...\n",
            "998        9  ...            NaN\n",
            "999        9  ...            6.0\n",
            "1000       9  ...            NaN\n",
            "1001       9  ...            NaN\n",
            "1002       9  ...            NaN\n",
            "\n",
            "[1003 rows x 12 columns]\n"
          ],
          "name": "stdout"
        }
      ]
    },
    {
      "cell_type": "code",
      "metadata": {
        "id": "3KpvZiMjLCjm"
      },
      "source": [
        "pfn = pd.merge(df2 ,df4, how='left', left_on=['gene-symbol'], right_on=['MppedID'])"
      ],
      "execution_count": 24,
      "outputs": []
    },
    {
      "cell_type": "code",
      "metadata": {
        "colab": {
          "base_uri": "https://localhost:8080/"
        },
        "id": "RmuH0JGeXf7X",
        "outputId": "fcc9bb11-0f8f-4e6d-8f61-aa9dfe65448b"
      },
      "source": [
        "print(pfn['gene-name'],pfn['MppedID'])"
      ],
      "execution_count": 12,
      "outputs": [
        {
          "output_type": "stream",
          "text": [
            "0                        4-aminobutyrate aminotransferase\n",
            "1       ATP-binding cassette, sub-family A (ABC1), mem...\n",
            "2              ATP binding cassette subfamily A member 13\n",
            "3       ATP-binding cassette, sub-family A (ABC1), mem...\n",
            "4                         angiotensin I converting enzyme\n",
            "                              ...                        \n",
            "1010                   zinc finger MYND-type containing 8\n",
            "1011                             Zinc finger protein 804A\n",
            "1012                              Zinc finger protein 827\n",
            "1013                   zinc finger SWIM-type containing 6\n",
            "1014                            zwilchkinetochore protein\n",
            "Name: gene-name, Length: 1015, dtype: object 0          ABAT\n",
            "1           NaN\n",
            "2        ABCA13\n",
            "3         ABCA7\n",
            "4           NaN\n",
            "         ...   \n",
            "1010        NaN\n",
            "1011    ZNF804A\n",
            "1012        NaN\n",
            "1013        NaN\n",
            "1014        NaN\n",
            "Name: MppedID, Length: 1015, dtype: object\n"
          ],
          "name": "stdout"
        }
      ]
    },
    {
      "cell_type": "code",
      "metadata": {
        "colab": {
          "base_uri": "https://localhost:8080/"
        },
        "id": "8wSNPCpL85wh",
        "outputId": "b105e904-7623-4588-80f9-3e0f2c9b18c8"
      },
      "source": [
        "print(df2.loc[df2['gene-score'] == 1.0])"
      ],
      "execution_count": 48,
      "outputs": [
        {
          "output_type": "stream",
          "text": [
            "     status gene-symbol  ... syndromic number-of-reports\n",
            "6         9        ACTB  ...         1                 3\n",
            "14        9        ADNP  ...         0                50\n",
            "16        9        ADSL  ...         0                 6\n",
            "17        9        AFF2  ...         0                16\n",
            "26        9       AHDC1  ...         0                13\n",
            "..      ...         ...  ...       ...               ...\n",
            "976       9      ZBTB20  ...         0                25\n",
            "986       9      ZNF292  ...         0                 6\n",
            "988       9      ZNF462  ...         0                 9\n",
            "995       9        UBR1  ...         0                 1\n",
            "998       9      ZMYND8  ...         0                 4\n",
            "\n",
            "[207 rows x 9 columns]\n"
          ],
          "name": "stdout"
        }
      ]
    }
  ]
}